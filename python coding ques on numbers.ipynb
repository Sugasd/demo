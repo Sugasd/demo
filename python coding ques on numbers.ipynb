{
 "cells": [
  {
   "cell_type": "code",
   "execution_count": 1,
   "id": "590c5a6b",
   "metadata": {},
   "outputs": [
    {
     "name": "stdout",
     "output_type": "stream",
     "text": [
      "please give a number : 32\n",
      "before reverse your numeber is : 32\n",
      "After reverse : 23\n"
     ]
    }
   ],
   "source": [
    "#Python program to reverse a number\n",
    "n = int(input(\"please give a number : \"))\n",
    "print(\"before reverse your numeber is : %d\" %n)\n",
    "reverse = 0\n",
    "while n!=0:\n",
    "    reverse = reverse*10 + n%10       \n",
    "    n = (n//10)\n",
    "print(\"After reverse : %d\" %reverse)"
   ]
  },
  {
   "cell_type": "code",
   "execution_count": 2,
   "id": "6ae82f5a",
   "metadata": {},
   "outputs": [
    {
     "name": "stdout",
     "output_type": "stream",
     "text": [
      "please give a number : 153\n",
      "number is armstrong\n"
     ]
    }
   ],
   "source": [
    "#Program to check a number is Armstrong or not in python programming language\n",
    "i=0\n",
    "result=0\n",
    "n = int(input(\"please give a number : \"))\n",
    "number1 = n\n",
    "temp = n\n",
    "while n!=0:\n",
    "    n = (n//10)\n",
    "    i=i+1;\n",
    "while number1!=0:\n",
    "    n=number1%10\n",
    "    result=result+pow(n,i)\n",
    "    number1=number1//10\n",
    "if temp==result:\n",
    "    print(\"number is armstrong\")\n",
    "else:\n",
    "    print(\"number is not armstrong\") "
   ]
  },
  {
   "cell_type": "code",
   "execution_count": 3,
   "id": "8d536548",
   "metadata": {},
   "outputs": [
    {
     "name": "stdout",
     "output_type": "stream",
     "text": [
      "please give a number : 11\n",
      "given number is prime\n"
     ]
    }
   ],
   "source": [
    "#Python program to check given number is prime or not\n",
    "i,temp=0,0\n",
    "n = int(input(\"please give a number : \"))\n",
    "for i in range(2,n//2):\n",
    "    if n%i == 0:\n",
    "        temp=1\n",
    "        break\n",
    "if temp == 1:\n",
    "    print(\"given number is not prime\")\n",
    "else:\n",
    "    print(\"given number is prime\")"
   ]
  },
  {
   "cell_type": "code",
   "execution_count": 4,
   "id": "7747179a",
   "metadata": {},
   "outputs": [
    {
     "name": "stdout",
     "output_type": "stream",
     "text": [
      "please give a number for fibonacci series : 5\n",
      "fibonacci series are : \n",
      "0\n",
      "1\n",
      "1\n",
      "2\n",
      "3\n"
     ]
    }
   ],
   "source": [
    "#Python program to print Fibonacci series program in using Iterative methods\n",
    "first,second=0,1\n",
    "n = int(input(\"please give a number for fibonacci series : \"))\n",
    "print(\"fibonacci series are : \")\n",
    "for i in range(0,n):\n",
    "    if i<=1:\n",
    "        result=i\n",
    "    else:\n",
    "      result = first + second;\n",
    "      first = second;\n",
    "      second = result;\n",
    "    print(result)"
   ]
  },
  {
   "cell_type": "code",
   "execution_count": 5,
   "id": "4003692a",
   "metadata": {},
   "outputs": [
    {
     "name": "stdout",
     "output_type": "stream",
     "text": [
      "please give a number for fibonacci series : 4\n",
      "fibonacci series are : \n",
      "0\n",
      "1\n",
      "1\n",
      "2\n"
     ]
    }
   ],
   "source": [
    "#Python program to print Fibonacci series using recursive methods\n",
    "first,second=0,1\n",
    "n = int(input(\"please give a number for fibonacci series : \"))\n",
    "def fibonacci(num):\n",
    "    if num == 0:\n",
    "        return 0\n",
    "    elif num == 1:\n",
    "        return 1\n",
    "    else:\n",
    "        return fibonacci(num-1)+fibonacci(num-2)\n",
    "print(\"fibonacci series are : \")\n",
    "for i in range(0,n):\n",
    "    print(fibonacci(i))"
   ]
  },
  {
   "cell_type": "code",
   "execution_count": null,
   "id": "362a8195",
   "metadata": {},
   "outputs": [],
   "source": [
    "#Python program for palindrome number using iterative method\n",
    "n = int(input(\"please give a number : \"))\n",
    "reverse,temp = 0,n\n",
    "while temp!=0:\n",
    "    reverse = reverse*10 + temp%10;        \n",
    "    temp=temp//10;\n",
    "if reverse==n:\n",
    "    print(\"number is palindrom\")\n",
    "else:\n",
    "    print(\"number is not palindrom\")"
   ]
  },
  {
   "cell_type": "code",
   "execution_count": null,
   "id": "a74999bf",
   "metadata": {},
   "outputs": [],
   "source": [
    "#Python program for palindrome number using recursive method\n",
    "n = int(input(\"please give a number : \"))\n",
    "\n",
    "def reverse(num):\n",
    "    if num<10:\n",
    "      return num \n",
    "    else:\n",
    "      return int(str(num%10) + str(reverse(num//10)))\n",
    "\n",
    "def isPalindrome(num):\n",
    "    if num == reverse(num):\n",
    "        return 1\n",
    "    return 0\n",
    "if isPalindrome(n) == 1:\n",
    "    print(\"Given number is a palindrome\")\n",
    "else:\n",
    "    print(\"Given number is a not palindrome\")"
   ]
  },
  {
   "cell_type": "code",
   "execution_count": null,
   "id": "c5ae25ef",
   "metadata": {},
   "outputs": [],
   "source": [
    "#Python program to find greatest of three numbers\n",
    "n1 = int(input(\"please give first number n1: \"))\n",
    "n2 = int(input(\"please give second number n2: \"))\n",
    "n3 = int(input(\"please give third number n3: \"))\n",
    "if n1>=n2 and n1>=n3: \n",
    "\tprint(\" n1 is greatest\");\n",
    "if n2>=n1 and n2>=n3:\n",
    "\tprint(\" n2 is greatest\");\n",
    "if n3>=n1 and n3>=n2:\n",
    "\tprint(\"n3 is greatest\");"
   ]
  },
  {
   "cell_type": "code",
   "execution_count": null,
   "id": "ef6b2a07",
   "metadata": {},
   "outputs": [],
   "source": [
    "#Below is the program to check given number representation is in binary or not\n",
    "num = int(input(\"please give a number : \"))\n",
    "while(num>0):\n",
    "    j=num%10\n",
    "    if j!=0 and j!=1:\n",
    "        print(\"num is not binary\")\n",
    "        break\n",
    "    num=num//10\n",
    "    if num==0:\n",
    "        print(\"num is binary\")"
   ]
  },
  {
   "cell_type": "code",
   "execution_count": null,
   "id": "17f058f6",
   "metadata": {},
   "outputs": [],
   "source": [
    "#Python program to swap two number without using third variable\n",
    "a = int(input(\"please give first number a: \"))\n",
    "b = int(input(\"please give second number b: \"))\n",
    "a=a-b\n",
    "b=a+b\n",
    "a=b-a\n",
    "print(\"After swapping\")\n",
    "print(\"value of a is : \", a);\n",
    "print(\"value of b is : \", b);\n"
   ]
  },
  {
   "cell_type": "code",
   "execution_count": null,
   "id": "c6c41503",
   "metadata": {},
   "outputs": [],
   "source": [
    "#Swapping of two numbers using third variable in Python language\n",
    "a = int(input(\"please give first number a: \"))\n",
    "b = int(input(\"please give second number b: \"))\n",
    "tempvar=a\n",
    "a=b\n",
    "b=tempvar\n",
    "print(\"After swapping\")\n",
    "print(\"value of a is : \", a);\n",
    "print(\"value of b is : \", b);"
   ]
  },
  {
   "cell_type": "code",
   "execution_count": null,
   "id": "df6cc0ea",
   "metadata": {},
   "outputs": [],
   "source": [
    "#Below is a program to check a given number is perfect or not in Python\n",
    "num = int(input(\"please give first number a: \"))\n",
    "sum=0\n",
    "for i in range(1,(num//2)+1):\n",
    "    remainder = num % i\n",
    "    if remainder == 0:\n",
    "        sum = sum + i\n",
    "if sum == num:\n",
    "    print(\"given no. is perfect number\")\n",
    "else:\n",
    "    print(\"given no. is not a perfect number\")"
   ]
  },
  {
   "cell_type": "code",
   "execution_count": null,
   "id": "f5ca6fb9",
   "metadata": {},
   "outputs": [],
   "source": [
    "#Python code to find the average of numbers\n",
    "\n",
    "size=int(input(\"Enter the number of elements you want in array: \"))\n",
    "arr=[]\n",
    "#taking input of the list\n",
    "for i in range(0,size):\n",
    "    elem=int(input(\"Please give value for index \"+str(i)+\": \"))\n",
    "    arr.append(elem)\n",
    "#taking average of the elements of the list\n",
    "avg=sum(arr)/size\n",
    "print(\"Average of the array elements is \",avg)"
   ]
  },
  {
   "cell_type": "code",
   "execution_count": null,
   "id": "1f7facbb",
   "metadata": {},
   "outputs": [],
   "source": [
    "#Python Code to calculate the factorial\n",
    "#taking an integer input from user\n",
    "num=int(input(\"Enter the whole number to find the factorial: \"))\n",
    "factorial = 1\n",
    "if num < 0:\n",
    "   \tprint(\"Factorial can't be calculated for negative number\")\n",
    "elif num == 0:\n",
    "   print(\"Factorial of 0 is 1\")\n",
    "else:\n",
    "#calculating the factorial of the input number\n",
    "for i in range(1,num + 1):\n",
    "  factorial = factorial*i\n",
    "print(\"Factorial of\",num,\"is\",factorial)"
   ]
  },
  {
   "cell_type": "code",
   "execution_count": null,
   "id": "dd4b6beb",
   "metadata": {},
   "outputs": [],
   "source": [
    "#Python Program to find factorial of a number using recursion\n",
    "def fact(n):  \n",
    "   if n == 1:  \n",
    "       return n  \n",
    "   else:  \n",
    "#recursion \n",
    "       return n*fact(n-1)\n",
    "\n",
    "num = int(input(\"Enter a whole number to find Factorial: \"))  \n",
    "if num < 0:  \n",
    "   print(\"Factorial can't be calculated for negative number\")  \n",
    "elif num == 0:  \n",
    "   print(\"Factorial of 0 is 1\")  \n",
    "else:  \n",
    "   print(\"Factorial of\",num,\"is\",fact(num))"
   ]
  },
  {
   "cell_type": "code",
   "execution_count": null,
   "id": "206234c8",
   "metadata": {},
   "outputs": [],
   "source": [
    "#Python Code to check given number is even or odd\n",
    "\n",
    "#taking input from the user\n",
    "num = int(input(\"Enter a number to check even/odd \"))  \n",
    "#if number is divisible by 2\n",
    "if num%2 == 0:\n",
    "   print(num,\"is even number\")\n",
    "else:\n",
    "   print(num,\"is odd number\")\n"
   ]
  },
  {
   "cell_type": "code",
   "execution_count": null,
   "id": "649d294f",
   "metadata": {},
   "outputs": [],
   "source": [
    "#Python program to find smallest number among three\n",
    "\n",
    "a = int(input(\"Enter the value for a :\"))\n",
    "b = int(input(\"Enter the value for b :\"))\n",
    "c = int(input(\"Enter the value for c :\"))\n",
    "#comparing integer ‘a’ with other two integer\n",
    "if a<=b and a<=c:\n",
    "\tprint(\"a is smallest\")\n",
    "#comparing integer ‘b’ with other two integer\n",
    "elif b<=a and b<=c:\n",
    "\tprint(\"b is smallest\")\n",
    "#comparing integer ‘c’ with other two integer\n",
    "elif c<=a and c<=b:\n",
    "\tprint(\"c is smallest\")"
   ]
  },
  {
   "cell_type": "code",
   "execution_count": null,
   "id": "e4a61409",
   "metadata": {},
   "outputs": [],
   "source": [
    "#Python Program to calculate the power using ‘pow()’ method\n",
    "\n",
    "#taking 2 integer as input from the user\n",
    "base = int(input(\"Enter the value for base :\"))\n",
    "exponent = int(input(\"Enter the value for exponent :\"))\n",
    "print(base,\"to power \",exponent,\"=\",end = ' ')\n",
    "print(pow(base,exponent))"
   ]
  },
  {
   "cell_type": "code",
   "execution_count": null,
   "id": "5b60f8ab",
   "metadata": {},
   "outputs": [],
   "source": [
    "#Python Program to calculate the square of a given number\n",
    "\n",
    "#take input from the user\n",
    "num = int(input(\"Enter a number to calculate square : \"))\n",
    "print(\"square =\",num*num)"
   ]
  },
  {
   "cell_type": "code",
   "execution_count": null,
   "id": "ea000ae6",
   "metadata": {},
   "outputs": [],
   "source": [
    "#Python program to calculate the cube of a given number\n",
    "\n",
    "#take input from the user\n",
    "num = int(input(\"Enter a number to calculate cube : \"))\n",
    "print(\"cube =\",num*num*num)\n"
   ]
  },
  {
   "cell_type": "code",
   "execution_count": null,
   "id": "2b1a0385",
   "metadata": {},
   "outputs": [],
   "source": [
    "#Python program to calculate the square root of a given number\n",
    "import math\n",
    "#take input from the user\n",
    "num = int(input(\"Enter a number to find square root : \"))\n",
    "#check if the input number is negative\n",
    "if num<0:\n",
    "    print(\"Negative numbers can't have square roots\")\n",
    "else:\n",
    "    print(\"square roots = \",math.sqrt(num))"
   ]
  },
  {
   "cell_type": "code",
   "execution_count": null,
   "id": "73d2811a",
   "metadata": {},
   "outputs": [],
   "source": [
    "#Python code to find l.c.m. of two numbers\n",
    "\n",
    "num1 = int(input(\"Enter first number: \"))  \n",
    "num2 = int(input(\"Enter second number: \"))  \n",
    "if num1 > num2:  \n",
    "    greater = num1  \n",
    "else:  \n",
    "    greater = num2  \n",
    "while(True):  \n",
    "    if((greater % num1 == 0) and (greater % num2 == 0)):  \n",
    "        lcm = greater  \n",
    "        break  \n",
    "    greater += 1  \n",
    "print(\"LCM of\",num1,\"and\",num2,\"=\",greater)"
   ]
  },
  {
   "cell_type": "code",
   "execution_count": null,
   "id": "d8cb5840",
   "metadata": {},
   "outputs": [],
   "source": [
    "#Python code to find h.c.f. of two numbers\n",
    "\n",
    "#taking two inputs from the user\n",
    "num1 = int(input(\"Enter first number: \"))  \n",
    "num2 = int(input(\"Enter second number: \"))  \n",
    "#checking for smaller number\n",
    "if num1 > num2:\n",
    "    minimum = num2\n",
    "else:\n",
    "    minimum = num1\n",
    "#finding highest factor of the numbers\n",
    "for i in range(1, minimum+1):\n",
    "    if((num1 % i == 0) and (num2 % i == 0)):\n",
    "        hcf = i \n",
    "print(\"hcf/gcd of\",num1,\"and\",num2,\"=\",hcf)"
   ]
  },
  {
   "cell_type": "code",
   "execution_count": null,
   "id": "b75ced4a",
   "metadata": {},
   "outputs": [],
   "source": []
  }
 ],
 "metadata": {
  "kernelspec": {
   "display_name": "Python 3 (ipykernel)",
   "language": "python",
   "name": "python3"
  },
  "language_info": {
   "codemirror_mode": {
    "name": "ipython",
    "version": 3
   },
   "file_extension": ".py",
   "mimetype": "text/x-python",
   "name": "python",
   "nbconvert_exporter": "python",
   "pygments_lexer": "ipython3",
   "version": "3.9.12"
  }
 },
 "nbformat": 4,
 "nbformat_minor": 5
}
