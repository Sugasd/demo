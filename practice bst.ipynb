{
 "cells": [
  {
   "cell_type": "code",
   "execution_count": 1,
   "id": "781910c8",
   "metadata": {},
   "outputs": [
    {
     "name": "stdout",
     "output_type": "stream",
     "text": [
      "73327679866932737868736544786987326869767273327383328472693267658073846576327970327378687365\n"
     ]
    }
   ],
   "source": [
    "x=\"I LOVE INDIA,NEW DELHI IS THE CAPITAL OF INDIA\"\n",
    "rst=''.join([str(ord(i)) for i  in list(x)])\n",
    "print(rst)"
   ]
  },
  {
   "cell_type": "code",
   "execution_count": 6,
   "id": "8c44df8c",
   "metadata": {},
   "outputs": [
    {
     "name": "stdout",
     "output_type": "stream",
     "text": [
      "{'73': 'I', '32': ' ', '76': 'L', '79': 'O', '86': 'V', '69': 'E', '78': 'N', '68': 'D', '65': 'A', '44': ',', '67': 'C', '72': 'H'}\n"
     ]
    }
   ],
   "source": [
    "g=\"7332767986693273786873654467726978786573327383328472693267658073846576327970327378687365\"\n",
    "rs={i:chr(int(i)) for i in [g[j:j+2] for j in range(0,len(x),2)]}\n",
    "print(rs)"
   ]
  },
  {
   "cell_type": "code",
   "execution_count": 3,
   "id": "c1b1133b",
   "metadata": {},
   "outputs": [],
   "source": [
    "x=int(input())\n",
    "i=0\n",
    "while i<=x:\n",
    "    j=0\n",
    "    while"
   ]
  },
  {
   "cell_type": "code",
   "execution_count": 11,
   "id": "25db531e",
   "metadata": {},
   "outputs": [],
   "source": [
    "from openpyxl import load_workbook, Workbook\n",
    "from openpyxl.worksheet.table import Table, TableStyleInfo\n",
    "\n",
    "def str_to_int_or_float(value):\n",
    "    if isinstance(value, bool):\n",
    "        return value\n",
    "    try:\n",
    "        return int(value)\n",
    "    except ValueError:\n",
    "        try:\n",
    "            return float(value)\n",
    "        except ValueError:\n",
    "            return value\n",
    "\n",
    "wb = Workbook()\n",
    "ws = wb.active\n",
    "ws.title = 'Players info'\n",
    "    \n",
    "\n",
    "ws.append(['First name', 'Last name', 'Jersey', 'Height [mts]', 'NBA debut year', 'Weight [kgs]'])\n",
    "\n",
    "nba_players = [{'firstName': 'LeBron', 'lastName': 'James', 'jersey': '2', 'heightMeters': '2.03', 'nbaDebutYear': '2003', 'weightKilograms': '113.4'},\n",
    "                   {'firstName': 'LaMarcus', 'lastName': 'Aldridge', 'jersey': '12', 'heightMeters': '2.11', 'nbaDebutYear': '2006', 'weightKilograms': '117.9'}]\n",
    "for player in nba_players:\n",
    "    ws.append(list(map(str_to_int_or_float, player.values())))\n",
    "last_cell = ws.cell(row = ws.max_row, column = ws.max_column).coordinate\n",
    "\n",
    "player_table = Table(displayName = 'PlayerTable', ref = 'A1:{}'.format(last_cell))\n",
    "last_cell = ws.cell(row = ws.max_row, column = ws.max_column).coordinate\n",
    "player_table = Table(displayName = 'PlayerTable', ref = 'A1:{}'.format(last_cell))"
   ]
  },
  {
   "cell_type": "code",
   "execution_count": 9,
   "id": "6bc79392",
   "metadata": {},
   "outputs": [
    {
     "ename": "AttributeError",
     "evalue": "'tuple' object has no attribute 'values'",
     "output_type": "error",
     "traceback": [
      "\u001b[1;31m---------------------------------------------------------------------------\u001b[0m",
      "\u001b[1;31mAttributeError\u001b[0m                            Traceback (most recent call last)",
      "Input \u001b[1;32mIn [9]\u001b[0m, in \u001b[0;36m<cell line: 13>\u001b[1;34m()\u001b[0m\n\u001b[0;32m     11\u001b[0m         \u001b[38;5;28;01mexcept\u001b[39;00m \u001b[38;5;167;01mValueError\u001b[39;00m:\n\u001b[0;32m     12\u001b[0m             \u001b[38;5;28;01mreturn\u001b[39;00m value\n\u001b[1;32m---> 13\u001b[0m \u001b[43mplayer\u001b[49m\u001b[38;5;241;43m.\u001b[39;49m\u001b[43mvalues\u001b[49m()\n",
      "\u001b[1;31mAttributeError\u001b[0m: 'tuple' object has no attribute 'values'"
     ]
    }
   ],
   "source": [
    "player = {'firstName': 'LeBron', 'lastName': 'James', 'jersey': '2', 'heightMeters': '2.03', 'nbaDebutYear': '2003', 'weightKilograms': '113.4'},{'firstName': 'LaMarcus', 'lastName': 'Aldridge', 'jersey': '12', 'heightMeters': '2.11', 'nbaDebutYear': '2006', 'weightKilograms': '117.9'}\n",
    "\n",
    "def str_to_int_or_float(value):\n",
    "    if isinstance(value, bool):\n",
    "        return value\n",
    "    try:\n",
    "        return int(value)\n",
    "    except ValueError:\n",
    "        try:\n",
    "            return float(value)\n",
    "        except ValueError:\n",
    "            return value\n",
    "player.values()\n"
   ]
  },
  {
   "cell_type": "code",
   "execution_count": null,
   "id": "8463cbd5",
   "metadata": {},
   "outputs": [],
   "source": [
    "#f=open()\n",
    "#content=f.readlines()\n",
    "#f.close()\n",
    "\n",
    "\n",
    "rprt_d=int(input(\"report for one day (0) or multiple days (1):\"))\n",
    "rprt_chk=[0,1]\n",
    "while rprt_d not in rprt_chk:\n",
    "        print(\"enter correct input\")\n",
    "        rprt_d=int(input(\"report for one day (0) or multiple days (1):\"))\n",
    "        \n",
    "if rprt_d==0:\n",
    "    check=0\n",
    "    while check==0:\n",
    "        dt=int(input(\"pls enter the date in MM-DD-YY Format: \"))\n",
    "        month,day,year=\"\",\"\",\"\"\n",
    "        try:\n",
    "            month,day,year=dt.split(\"-\")\n",
    "            check=1\n",
    "            if int(month)>12:\n",
    "                print(\"Month value exceeds 12\")\n",
    "                check=0\n",
    "            if len(month)!=2 or len(day)!=2 or len(year)!=2:\n",
    "                check=0\n",
    "        except:\n",
    "            print(\"enter a valid input\")\n",
    "            check=0 \n",
    "            \n",
    "   \n",
    "        "
   ]
  },
  {
   "cell_type": "code",
   "execution_count": 2,
   "id": "aa2068b7",
   "metadata": {},
   "outputs": [
    {
     "name": "stdout",
     "output_type": "stream",
     "text": [
      "2020-12-12 2022-12-20\n"
     ]
    }
   ],
   "source": [
    "import datetime as dt\n",
    "\n",
    "x=dt.date(2020,12,12)\n",
    "y=dt.date(2022,12,20)\n",
    "print(x,y)"
   ]
  },
  {
   "cell_type": "code",
   "execution_count": 4,
   "id": "f1551d91",
   "metadata": {},
   "outputs": [
    {
     "ename": "ModuleNotFoundError",
     "evalue": "No module named 'calender'",
     "output_type": "error",
     "traceback": [
      "\u001b[1;31m---------------------------------------------------------------------------\u001b[0m",
      "\u001b[1;31mModuleNotFoundError\u001b[0m                       Traceback (most recent call last)",
      "Input \u001b[1;32mIn [4]\u001b[0m, in \u001b[0;36m<cell line: 1>\u001b[1;34m()\u001b[0m\n\u001b[1;32m----> 1\u001b[0m \u001b[38;5;28;01mimport\u001b[39;00m \u001b[38;5;21;01mcalender\u001b[39;00m\n\u001b[0;32m      2\u001b[0m yy\u001b[38;5;241m=\u001b[39m\u001b[38;5;241m1999\u001b[39m\n\u001b[0;32m      3\u001b[0m mm\u001b[38;5;241m=\u001b[39m\u001b[38;5;241m10\u001b[39m\n",
      "\u001b[1;31mModuleNotFoundError\u001b[0m: No module named 'calender'"
     ]
    }
   ],
   "source": [
    "import calender\n",
    "yy=1999\n",
    "mm=10\n",
    "print(calender.month(yy,mm))"
   ]
  },
  {
   "cell_type": "code",
   "execution_count": 5,
   "id": "8398ba71",
   "metadata": {},
   "outputs": [
    {
     "name": "stdout",
     "output_type": "stream",
     "text": [
      "Note: you may need to restart the kernel to use updated packages.\n"
     ]
    },
    {
     "name": "stderr",
     "output_type": "stream",
     "text": [
      "ERROR: Could not find a version that satisfies the requirement calender (from versions: none)\n",
      "ERROR: No matching distribution found for calender\n"
     ]
    }
   ],
   "source": [
    "pip install calender"
   ]
  }
 ],
 "metadata": {
  "kernelspec": {
   "display_name": "Python 3 (ipykernel)",
   "language": "python",
   "name": "python3"
  },
  "language_info": {
   "codemirror_mode": {
    "name": "ipython",
    "version": 3
   },
   "file_extension": ".py",
   "mimetype": "text/x-python",
   "name": "python",
   "nbconvert_exporter": "python",
   "pygments_lexer": "ipython3",
   "version": "3.9.12"
  }
 },
 "nbformat": 4,
 "nbformat_minor": 5
}
